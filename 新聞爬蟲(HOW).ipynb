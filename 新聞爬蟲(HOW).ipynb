{
  "nbformat": 4,
  "nbformat_minor": 0,
  "metadata": {
    "accelerator": "GPU",
    "colab": {
      "name": "新聞爬蟲(HOW).ipynb",
      "provenance": [],
      "collapsed_sections": []
    },
    "kernelspec": {
      "display_name": "Python 3",
      "name": "python3"
    }
  },
  "cells": [
    {
      "cell_type": "code",
      "metadata": {
        "colab": {
          "base_uri": "https://localhost:8080/"
        },
        "id": "Ytgr7wKAqacZ",
        "cellView": "code",
        "outputId": "49b573ea-08f5-4c6a-c5a5-fd292af2cca6"
      },
      "source": [
        " \n",
        " \n",
        "import requests\n",
        "from bs4 import BeautifulSoup\n",
        "import time,re,csv\n",
        "import random\n",
        "import requests\n",
        "from datetime import datetime\n",
        "import pandas as pd\n",
        " \n",
        "HEADERS = {\n",
        "    'User-Agent': 'Mozilla/5.0 (Windows NT 10.0; Win64; x64) AppleWebKit/537.36 (KHTML, like Gecko) Chrome/81.0.4044.92 Safari/537.36',\n",
        "}\n",
        "def get_news_contents(url,mode='娛樂'):\n",
        "    r = requests.get(url)\n",
        "    soup = BeautifulSoup(r.text,\"html.parser\")\n",
        "    [s.extract() for s in soup('script')]#移除script style\n",
        "    [s.extract() for s in soup('ul')]#移除ul\n",
        "    [s.extract() for s in soup(\"svg\")]#移除svg\n",
        " \n",
        "    \n",
        "    results = soup.select(\"article\")\n",
        "    content = ''\n",
        " \n",
        "    for result in results:\n",
        "        content+=result.text\n",
        "    return ' '.join(re.sub('[^\\u4e00-\\u9fa5^.^a-z^A-Z^0-9]', \" \", content).split())#保留中英數 一個空格\n",
        " \n",
        "def write_to_csv(news_data,mode='娛樂'):\n",
        "    pd.DataFrame([news_data]).to_csv('/content/drive/MyDrive/Colab Notebooks/%s.csv'%(mode), names=['title', 'titleLink', 'content', 'label'],index=0)    \n",
        " \n",
        "def get_news(num=10,mode='娛樂'):\n",
        "    all_news = []\n",
        " \n",
        "    if mode=='要聞':\n",
        "        pid = '5043686'\n",
        "    elif mode=='全球':\n",
        "        pid = '5039899'\n",
        "    else:\n",
        "        pid = ''\n",
        "    next_index = -1\n",
        "    try:\n",
        "      while len(all_news) < num:\n",
        "        news_types={'全球': f'https://www.nownews.com/nn-client/api/v1/cat/news-global/?pid={pid}',\n",
        "                    '運動': f'https://www.nownews.com/nn-client/api/v1/cat/sport/?pid={pid}',\n",
        "                    '財經': f'https://www.nownews.com/nn-client/api/v1/cat/finance/?pid={pid}',\n",
        "                    '房產': f'https://www.nownews.com/nn-client/api/v1/cat/house2/?pid={pid}',\n",
        "                    '健康': f'https://www.nownews.com/nn-client/api/v1/cat/health-life/?pid={pid}',\n",
        "                    '地方': f'https://www.nownews.com/nn-client/api/v1/cat/local/?pid={pid}',\n",
        "                    '新奇': f'https://www.nownews.com/nn-client/api/v1/cat/novelty/?pid={pid}',\n",
        "                    '要聞': f'https://www.nownews.com/nn-client/api/v1/cat/news-summary/?pid={pid}'}\n",
        " \n",
        "        url = news_types[mode]\n",
        "        print(url)\n",
        "        r = requests.get(url, headers=HEADERS)\n",
        "        if r.status_code != requests.codes.ok:\n",
        "            print(f'Requests Error: {r.status_code}')\n",
        "            break\n",
        " \n",
        "        data = r.json()\n",
        "        if data['data'] == []:\n",
        "            next_index -= 1\n",
        "            pid = all_news[next_index]['id']\n",
        "            if next_index < -5:\n",
        "                 raise Exception(\"next_index已經到達極限.\")\n",
        "            continue\n",
        "        else:\n",
        "            next_index = -1\n",
        " \n",
        " \n",
        "        news_list = data['data']['newsList']\n",
        "        \n",
        "        for news in news_list:\n",
        "              \n",
        "              news_data = {\n",
        "                'id':news['id'],\n",
        "                'titleLink': 'https://www.nownews.com' + news['postOnlyUrl'],\n",
        "                'title': ' '.join(re.sub('[^\\u4e00-\\u9fa5^.^a-z^A-Z^0-9]', \" \", news['postTitle']).split()),\n",
        "                'content': get_news_contents('https://www.nownews.com' + news['postOnlyUrl'],mode),\n",
        "                'label':mode\n",
        "              }\n",
        " \n",
        "              write_to_csv(news_data,mode)\n",
        "              all_news.append(news_data)\n",
        "              \n",
        "           \n",
        "        \n",
        "        pid = all_news[next_index]['id']\n",
        "        time.sleep(random.uniform(2, 3))\n",
        "    except:\n",
        "      print('下一個分類')\n",
        " \n",
        " \n",
        "if __name__ == \"__main__\":\n",
        "    get_news(num=6000,mode='全球')\n",
        "    get_news(num=6000,mode='要聞')"
      ],
      "execution_count": null,
      "outputs": [
        {
          "output_type": "stream",
          "text": [
            "https://www.nownews.com/nn-client/api/v1/cat/news-global/?pid=5039899\n",
            "下一個分類\n",
            "https://www.nownews.com/nn-client/api/v1/cat/news-summary/?pid=5043686\n",
            "下一個分類\n"
          ],
          "name": "stdout"
        }
      ]
    },
    {
      "cell_type": "markdown",
      "metadata": {
        "id": "x1cGaQs0B-E-"
      },
      "source": [
        "**# Read**\n"
      ]
    },
    {
      "cell_type": "code",
      "metadata": {
        "colab": {
          "base_uri": "https://localhost:8080/",
          "height": 589
        },
        "id": "xOo0xIOevbvb",
        "outputId": "393dc254-47a0-47f2-9ecc-d9f5dce0e110"
      },
      "source": [
        "import pandas as pd\n",
        "def read_from_csv(mode='娛樂'):\n",
        "    return pd.read_csv('/content/drive/MyDrive/Colab Notebooks/%s.csv'%(mode), names=['title', 'titleLink', 'content', 'label'], header=0)\n",
        "\n",
        "newlist = pd.concat([read_from_csv('娛樂'),read_from_csv('全球'),read_from_csv('要聞'),read_from_csv('運動'),read_from_csv('房產'),read_from_csv('健康'),read_from_csv('財經')\n",
        ",read_from_csv('新奇'),read_from_csv('地方')],axis=0)\n",
        "\n",
        "newlist.sample(frac=1)\n"
      ],
      "execution_count": null,
      "outputs": [
        {
          "output_type": "execute_result",
          "data": {
            "text/html": [
              "<div>\n",
              "<style scoped>\n",
              "    .dataframe tbody tr th:only-of-type {\n",
              "        vertical-align: middle;\n",
              "    }\n",
              "\n",
              "    .dataframe tbody tr th {\n",
              "        vertical-align: top;\n",
              "    }\n",
              "\n",
              "    .dataframe thead th {\n",
              "        text-align: right;\n",
              "    }\n",
              "</style>\n",
              "<table border=\"1\" class=\"dataframe\">\n",
              "  <thead>\n",
              "    <tr style=\"text-align: right;\">\n",
              "      <th></th>\n",
              "      <th>title</th>\n",
              "      <th>titleLink</th>\n",
              "      <th>content</th>\n",
              "      <th>label</th>\n",
              "    </tr>\n",
              "  </thead>\n",
              "  <tbody>\n",
              "    <tr>\n",
              "      <th>8359</th>\n",
              "      <td>周慧敏曝舊照驚喊 沒看過 網大讚 以為是林志玲</td>\n",
              "      <td>https://stars.udn.com/star/story/10089/4801427...</td>\n",
              "      <td>玉女掌門人 周慧敏出道至今已34年 近日她曝光一張23年前在台灣所拍攝的雜誌封面照 驚訝地說...</td>\n",
              "      <td>娛樂</td>\n",
              "    </tr>\n",
              "    <tr>\n",
              "      <th>6289</th>\n",
              "      <td>無人電梯 不停開關門 男怕爆不敢搭 網愣 搞錯了吧</td>\n",
              "      <td>https://www.nownews.com/news/5054054</td>\n",
              "      <td>農曆7月 也就是俗稱的 鬼月 已經到來 家裡的長輩也會叮嚀要注意的禁忌 不過還是有些人擔心會...</td>\n",
              "      <td>新奇</td>\n",
              "    </tr>\n",
              "    <tr>\n",
              "      <th>4194</th>\n",
              "      <td>該不該恢復兩年徵兵制 律師曝 關鍵 國家準備好了嗎</td>\n",
              "      <td>https://www.nownews.com/news/5079055</td>\n",
              "      <td>面對近期共軍不斷越過海峽中線擾台 對於台灣兵役制度的討論也再度躍登檯面 更有不少政治人物提出...</td>\n",
              "      <td>要聞</td>\n",
              "    </tr>\n",
              "    <tr>\n",
              "      <th>10709</th>\n",
              "      <td>NBA 單場僅得79分 勇士寫下科爾時代次低紀錄</td>\n",
              "      <td>https://www.nownews.com/news/3793552</td>\n",
              "      <td>儘管主力中鋒Kevon Looney回歸 但是金州勇士在今 3 日的比賽 還是以79 104...</td>\n",
              "      <td>運動</td>\n",
              "    </tr>\n",
              "    <tr>\n",
              "      <th>4391</th>\n",
              "      <td>王瑋 后翼棄兵 在男人稱霸世界中脫穎而出的天才少女</td>\n",
              "      <td>https://stars.udn.com/star/story/10093/5015351...</td>\n",
              "      <td>經過幾年的發展 網劇 儼然成為一個獨特的 劇種 與 操作 后翼棄兵 正是如此 每集紮紮實實約...</td>\n",
              "      <td>娛樂</td>\n",
              "    </tr>\n",
              "    <tr>\n",
              "      <th>...</th>\n",
              "      <td>...</td>\n",
              "      <td>...</td>\n",
              "      <td>...</td>\n",
              "      <td>...</td>\n",
              "    </tr>\n",
              "    <tr>\n",
              "      <th>2822</th>\n",
              "      <td>中埔舊驗菸廠改建 嘉縣首間多功能長照園區動土</td>\n",
              "      <td>https://www.nownews.com/news/5108368</td>\n",
              "      <td>佔地廣闊 位於中埔鄉農會隆興辦事處旁的舊菸葉檢驗廠閒置多年 經鄉公所爭取衛福部補助 自籌經費...</td>\n",
              "      <td>地方</td>\n",
              "    </tr>\n",
              "    <tr>\n",
              "      <th>9393</th>\n",
              "      <td>熊本熊翻跳 乘風破浪的姐姐 主題曲扭很大 萌樣滿分超療癒</td>\n",
              "      <td>https://stars.udn.com/star/story/120661/474521...</td>\n",
              "      <td>大陸女星李宇春為綜藝節目 乘風破浪的姐姐 創詞並演唱的主題曲 無價之姐 不僅有明星 網紅等人...</td>\n",
              "      <td>娛樂</td>\n",
              "    </tr>\n",
              "    <tr>\n",
              "      <th>8061</th>\n",
              "      <td>我們一家人 紐西蘭浪人落腳頭城 因思念開起麵包店</td>\n",
              "      <td>https://stars.udn.com/star/story/10091/4817119...</td>\n",
              "      <td>來自紐西蘭的Daniel 是一個逐浪而居的浪人 為了衝浪而落腳頭城 卻在這裡找到了另一半 甚...</td>\n",
              "      <td>娛樂</td>\n",
              "    </tr>\n",
              "    <tr>\n",
              "      <th>1606</th>\n",
              "      <td>別灰心 威力彩下期加碼送2億 頭獎獎金上看2.2億</td>\n",
              "      <td>https://www.nownews.com/news/5038097</td>\n",
              "      <td>威力彩今 27 晚開出頭獎 幸運得主有兩名 各分得15.6億元 為史上第8高單注頭獎 此次是...</td>\n",
              "      <td>財經</td>\n",
              "    </tr>\n",
              "    <tr>\n",
              "      <th>14252</th>\n",
              "      <td>年前聰明大掃除 肩頸不再痠痛硬梆梆</td>\n",
              "      <td>https://www.nownews.com/news/3890720</td>\n",
              "      <td>年關將近 許多人在開始進行年前大掃除 年紀約45歲的陳小姐至奇美醫學中心復健部就診 主訴最近...</td>\n",
              "      <td>地方</td>\n",
              "    </tr>\n",
              "  </tbody>\n",
              "</table>\n",
              "<p>76529 rows × 4 columns</p>\n",
              "</div>"
            ],
            "text/plain": [
              "                              title  ... label\n",
              "8359        周慧敏曝舊照驚喊 沒看過 網大讚 以為是林志玲  ...    娛樂\n",
              "6289      無人電梯 不停開關門 男怕爆不敢搭 網愣 搞錯了吧  ...    新奇\n",
              "4194      該不該恢復兩年徵兵制 律師曝 關鍵 國家準備好了嗎  ...    要聞\n",
              "10709      NBA 單場僅得79分 勇士寫下科爾時代次低紀錄  ...    運動\n",
              "4391      王瑋 后翼棄兵 在男人稱霸世界中脫穎而出的天才少女  ...    娛樂\n",
              "...                             ...  ...   ...\n",
              "2822         中埔舊驗菸廠改建 嘉縣首間多功能長照園區動土  ...    地方\n",
              "9393   熊本熊翻跳 乘風破浪的姐姐 主題曲扭很大 萌樣滿分超療癒  ...    娛樂\n",
              "8061       我們一家人 紐西蘭浪人落腳頭城 因思念開起麵包店  ...    娛樂\n",
              "1606      別灰心 威力彩下期加碼送2億 頭獎獎金上看2.2億  ...    財經\n",
              "14252             年前聰明大掃除 肩頸不再痠痛硬梆梆  ...    地方\n",
              "\n",
              "[76529 rows x 4 columns]"
            ]
          },
          "metadata": {
            "tags": []
          },
          "execution_count": 1
        }
      ]
    },
    {
      "cell_type": "code",
      "metadata": {
        "colab": {
          "base_uri": "https://localhost:8080/",
          "height": 97
        },
        "id": "PlrtopVDJ1e7",
        "outputId": "0ae11e10-e141-41b2-8853-4013cc72923e"
      },
      "source": [
        "newlist[newlist.content.str.len()>10000]"
      ],
      "execution_count": null,
      "outputs": [
        {
          "output_type": "execute_result",
          "data": {
            "text/html": [
              "<div>\n",
              "<style scoped>\n",
              "    .dataframe tbody tr th:only-of-type {\n",
              "        vertical-align: middle;\n",
              "    }\n",
              "\n",
              "    .dataframe tbody tr th {\n",
              "        vertical-align: top;\n",
              "    }\n",
              "\n",
              "    .dataframe thead th {\n",
              "        text-align: right;\n",
              "    }\n",
              "</style>\n",
              "<table border=\"1\" class=\"dataframe\">\n",
              "  <thead>\n",
              "    <tr style=\"text-align: right;\">\n",
              "      <th></th>\n",
              "      <th>title</th>\n",
              "      <th>titleLink</th>\n",
              "      <th>content</th>\n",
              "      <th>label</th>\n",
              "    </tr>\n",
              "  </thead>\n",
              "  <tbody>\n",
              "    <tr>\n",
              "      <th>8168</th>\n",
              "      <td>金鐘55 第55屆電視金鐘獎完整入圍名單</td>\n",
              "      <td>https://stars.udn.com/star/story/10091/4811344...</td>\n",
              "      <td>圖 擷自廣播電視金鐘獎官方臉書 第55屆電視金鐘獎入圍名單26日揭曉 這次由獲得上屆 綜藝節...</td>\n",
              "      <td>娛樂</td>\n",
              "    </tr>\n",
              "  </tbody>\n",
              "</table>\n",
              "</div>"
            ],
            "text/plain": [
              "                     title  ... label\n",
              "8168  金鐘55 第55屆電視金鐘獎完整入圍名單  ...    娛樂\n",
              "\n",
              "[1 rows x 4 columns]"
            ]
          },
          "metadata": {
            "tags": []
          },
          "execution_count": 16
        }
      ]
    },
    {
      "cell_type": "code",
      "metadata": {
        "colab": {
          "base_uri": "https://localhost:8080/",
          "height": 1000
        },
        "id": "_3b_0Bzd2TU9",
        "outputId": "6b9cd026-17bb-417a-9056-c829e48acabe"
      },
      "source": [
        "import matplotlib.pyplot as plt\n",
        "import matplotlib\n",
        "\n",
        "\n",
        "\n",
        "df = newlist.label.value_counts().reset_index()\n",
        "df.columns = ['label', 'count']\n",
        "df.plot(x='label',y='count',kind='bar')\n",
        "plt.plot()"
      ],
      "execution_count": null,
      "outputs": [
        {
          "output_type": "execute_result",
          "data": {
            "text/plain": [
              "[]"
            ]
          },
          "metadata": {
            "tags": []
          },
          "execution_count": 142
        },
        {
          "output_type": "stream",
          "text": [
            "/usr/local/lib/python3.6/dist-packages/matplotlib/backends/backend_agg.py:214: RuntimeWarning: Glyph 22320 missing from current font.\n",
            "  font.set_text(s, 0.0, flags=flags)\n",
            "/usr/local/lib/python3.6/dist-packages/matplotlib/backends/backend_agg.py:214: RuntimeWarning: Glyph 26041 missing from current font.\n",
            "  font.set_text(s, 0.0, flags=flags)\n",
            "/usr/local/lib/python3.6/dist-packages/matplotlib/backends/backend_agg.py:214: RuntimeWarning: Glyph 26032 missing from current font.\n",
            "  font.set_text(s, 0.0, flags=flags)\n",
            "/usr/local/lib/python3.6/dist-packages/matplotlib/backends/backend_agg.py:214: RuntimeWarning: Glyph 22855 missing from current font.\n",
            "  font.set_text(s, 0.0, flags=flags)\n",
            "/usr/local/lib/python3.6/dist-packages/matplotlib/backends/backend_agg.py:214: RuntimeWarning: Glyph 36939 missing from current font.\n",
            "  font.set_text(s, 0.0, flags=flags)\n",
            "/usr/local/lib/python3.6/dist-packages/matplotlib/backends/backend_agg.py:214: RuntimeWarning: Glyph 21205 missing from current font.\n",
            "  font.set_text(s, 0.0, flags=flags)\n",
            "/usr/local/lib/python3.6/dist-packages/matplotlib/backends/backend_agg.py:214: RuntimeWarning: Glyph 36001 missing from current font.\n",
            "  font.set_text(s, 0.0, flags=flags)\n",
            "/usr/local/lib/python3.6/dist-packages/matplotlib/backends/backend_agg.py:214: RuntimeWarning: Glyph 32147 missing from current font.\n",
            "  font.set_text(s, 0.0, flags=flags)\n",
            "/usr/local/lib/python3.6/dist-packages/matplotlib/backends/backend_agg.py:214: RuntimeWarning: Glyph 23067 missing from current font.\n",
            "  font.set_text(s, 0.0, flags=flags)\n",
            "/usr/local/lib/python3.6/dist-packages/matplotlib/backends/backend_agg.py:214: RuntimeWarning: Glyph 27138 missing from current font.\n",
            "  font.set_text(s, 0.0, flags=flags)\n",
            "/usr/local/lib/python3.6/dist-packages/matplotlib/backends/backend_agg.py:214: RuntimeWarning: Glyph 35201 missing from current font.\n",
            "  font.set_text(s, 0.0, flags=flags)\n",
            "/usr/local/lib/python3.6/dist-packages/matplotlib/backends/backend_agg.py:214: RuntimeWarning: Glyph 32862 missing from current font.\n",
            "  font.set_text(s, 0.0, flags=flags)\n",
            "/usr/local/lib/python3.6/dist-packages/matplotlib/backends/backend_agg.py:214: RuntimeWarning: Glyph 20840 missing from current font.\n",
            "  font.set_text(s, 0.0, flags=flags)\n",
            "/usr/local/lib/python3.6/dist-packages/matplotlib/backends/backend_agg.py:214: RuntimeWarning: Glyph 29699 missing from current font.\n",
            "  font.set_text(s, 0.0, flags=flags)\n",
            "/usr/local/lib/python3.6/dist-packages/matplotlib/backends/backend_agg.py:214: RuntimeWarning: Glyph 25151 missing from current font.\n",
            "  font.set_text(s, 0.0, flags=flags)\n",
            "/usr/local/lib/python3.6/dist-packages/matplotlib/backends/backend_agg.py:214: RuntimeWarning: Glyph 29986 missing from current font.\n",
            "  font.set_text(s, 0.0, flags=flags)\n",
            "/usr/local/lib/python3.6/dist-packages/matplotlib/backends/backend_agg.py:214: RuntimeWarning: Glyph 20581 missing from current font.\n",
            "  font.set_text(s, 0.0, flags=flags)\n",
            "/usr/local/lib/python3.6/dist-packages/matplotlib/backends/backend_agg.py:214: RuntimeWarning: Glyph 24247 missing from current font.\n",
            "  font.set_text(s, 0.0, flags=flags)\n",
            "/usr/local/lib/python3.6/dist-packages/matplotlib/backends/backend_agg.py:183: RuntimeWarning: Glyph 22320 missing from current font.\n",
            "  font.set_text(s, 0, flags=flags)\n",
            "/usr/local/lib/python3.6/dist-packages/matplotlib/backends/backend_agg.py:183: RuntimeWarning: Glyph 26041 missing from current font.\n",
            "  font.set_text(s, 0, flags=flags)\n",
            "/usr/local/lib/python3.6/dist-packages/matplotlib/backends/backend_agg.py:183: RuntimeWarning: Glyph 26032 missing from current font.\n",
            "  font.set_text(s, 0, flags=flags)\n",
            "/usr/local/lib/python3.6/dist-packages/matplotlib/backends/backend_agg.py:183: RuntimeWarning: Glyph 22855 missing from current font.\n",
            "  font.set_text(s, 0, flags=flags)\n",
            "/usr/local/lib/python3.6/dist-packages/matplotlib/backends/backend_agg.py:183: RuntimeWarning: Glyph 36939 missing from current font.\n",
            "  font.set_text(s, 0, flags=flags)\n",
            "/usr/local/lib/python3.6/dist-packages/matplotlib/backends/backend_agg.py:183: RuntimeWarning: Glyph 21205 missing from current font.\n",
            "  font.set_text(s, 0, flags=flags)\n",
            "/usr/local/lib/python3.6/dist-packages/matplotlib/backends/backend_agg.py:183: RuntimeWarning: Glyph 36001 missing from current font.\n",
            "  font.set_text(s, 0, flags=flags)\n",
            "/usr/local/lib/python3.6/dist-packages/matplotlib/backends/backend_agg.py:183: RuntimeWarning: Glyph 32147 missing from current font.\n",
            "  font.set_text(s, 0, flags=flags)\n",
            "/usr/local/lib/python3.6/dist-packages/matplotlib/backends/backend_agg.py:183: RuntimeWarning: Glyph 23067 missing from current font.\n",
            "  font.set_text(s, 0, flags=flags)\n",
            "/usr/local/lib/python3.6/dist-packages/matplotlib/backends/backend_agg.py:183: RuntimeWarning: Glyph 27138 missing from current font.\n",
            "  font.set_text(s, 0, flags=flags)\n",
            "/usr/local/lib/python3.6/dist-packages/matplotlib/backends/backend_agg.py:183: RuntimeWarning: Glyph 35201 missing from current font.\n",
            "  font.set_text(s, 0, flags=flags)\n",
            "/usr/local/lib/python3.6/dist-packages/matplotlib/backends/backend_agg.py:183: RuntimeWarning: Glyph 32862 missing from current font.\n",
            "  font.set_text(s, 0, flags=flags)\n",
            "/usr/local/lib/python3.6/dist-packages/matplotlib/backends/backend_agg.py:183: RuntimeWarning: Glyph 20840 missing from current font.\n",
            "  font.set_text(s, 0, flags=flags)\n",
            "/usr/local/lib/python3.6/dist-packages/matplotlib/backends/backend_agg.py:183: RuntimeWarning: Glyph 29699 missing from current font.\n",
            "  font.set_text(s, 0, flags=flags)\n",
            "/usr/local/lib/python3.6/dist-packages/matplotlib/backends/backend_agg.py:183: RuntimeWarning: Glyph 25151 missing from current font.\n",
            "  font.set_text(s, 0, flags=flags)\n",
            "/usr/local/lib/python3.6/dist-packages/matplotlib/backends/backend_agg.py:183: RuntimeWarning: Glyph 29986 missing from current font.\n",
            "  font.set_text(s, 0, flags=flags)\n",
            "/usr/local/lib/python3.6/dist-packages/matplotlib/backends/backend_agg.py:183: RuntimeWarning: Glyph 20581 missing from current font.\n",
            "  font.set_text(s, 0, flags=flags)\n",
            "/usr/local/lib/python3.6/dist-packages/matplotlib/backends/backend_agg.py:183: RuntimeWarning: Glyph 24247 missing from current font.\n",
            "  font.set_text(s, 0, flags=flags)\n"
          ],
          "name": "stderr"
        },
        {
          "output_type": "display_data",
          "data": {
            "image/png": "[encoded data removed]",
            "text/plain": [
              "<Figure size 432x288 with 1 Axes>"
            ]
          },
          "metadata": {
            "tags": [],
            "needs_background": "light"
          }
        }
      ]
    }
  ]
}