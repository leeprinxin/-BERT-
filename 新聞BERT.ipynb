{
  "nbformat": 4,
  "nbformat_minor": 0,
  "metadata": {
    "accelerator": "GPU",
    "colab": {
      "name": "新聞BERT.ipynb",
      "provenance": [],
      "collapsed_sections": []
    },
    "kernelspec": {
      "display_name": "Python 3",
      "name": "python3"
    },
    "widgets": {
      "application/vnd.jupyter.widget-state+json": {
        "16418c68596941e0b2cfc1734769672b": {
          "model_module": "@jupyter-widgets/controls",
          "model_name": "HBoxModel",
          "state": {
            "_dom_classes": [],
            "_model_module": "@jupyter-widgets/controls",
            "_model_module_version": "1.5.0",
            "_model_name": "HBoxModel",
            "_view_count": null,
            "_view_module": "@jupyter-widgets/controls",
            "_view_module_version": "1.5.0",
            "_view_name": "HBoxView",
            "box_style": "",
            "children": [
              "IPY_MODEL_1b0fc7a37190490a891eb724d3f74c29",
              "IPY_MODEL_717db7b4f8064aed8a3318a1c65cb445"
            ],
            "layout": "IPY_MODEL_11100838eab447109d8e5c34d10d5ea2"
          }
        },
        "1b0fc7a37190490a891eb724d3f74c29": {
          "model_module": "@jupyter-widgets/controls",
          "model_name": "FloatProgressModel",
          "state": {
            "_dom_classes": [],
            "_model_module": "@jupyter-widgets/controls",
            "_model_module_version": "1.5.0",
            "_model_name": "FloatProgressModel",
            "_view_count": null,
            "_view_module": "@jupyter-widgets/controls",
            "_view_module_version": "1.5.0",
            "_view_name": "ProgressView",
            "bar_style": "success",
            "description": "Downloading: 100%",
            "description_tooltip": null,
            "layout": "IPY_MODEL_e2a314ad71e6402fb9f6f36dc31274a3",
            "max": 109540,
            "min": 0,
            "orientation": "horizontal",
            "style": "IPY_MODEL_693ba06c0c464968b6db643f8d63d7e6",
            "value": 109540
          }
        },
        "717db7b4f8064aed8a3318a1c65cb445": {
          "model_module": "@jupyter-widgets/controls",
          "model_name": "HTMLModel",
          "state": {
            "_dom_classes": [],
            "_model_module": "@jupyter-widgets/controls",
            "_model_module_version": "1.5.0",
            "_model_name": "HTMLModel",
            "_view_count": null,
            "_view_module": "@jupyter-widgets/controls",
            "_view_module_version": "1.5.0",
            "_view_name": "HTMLView",
            "description": "",
            "description_tooltip": null,
            "layout": "IPY_MODEL_5fe116ba27e34b84807d98f005bc7d47",
            "placeholder": "​",
            "style": "IPY_MODEL_47712f52bdb64c13983c4c67bc6f4eab",
            "value": " 110k/110k [00:00&lt;00:00, 2.16MB/s]"
          }
        },
        "11100838eab447109d8e5c34d10d5ea2": {
          "model_module": "@jupyter-widgets/base",
          "model_name": "LayoutModel",
          "state": {
            "_model_module": "@jupyter-widgets/base",
            "_model_module_version": "1.2.0",
            "_model_name": "LayoutModel",
            "_view_count": null,
            "_view_module": "@jupyter-widgets/base",
            "_view_module_version": "1.2.0",
            "_view_name": "LayoutView",
            "align_content": null,
            "align_items": null,
            "align_self": null,
            "border": null,
            "bottom": null,
            "display": null,
            "flex": null,
            "flex_flow": null,
            "grid_area": null,
            "grid_auto_columns": null,
            "grid_auto_flow": null,
            "grid_auto_rows": null,
            "grid_column": null,
            "grid_gap": null,
            "grid_row": null,
            "grid_template_areas": null,
            "grid_template_columns": null,
            "grid_template_rows": null,
            "height": null,
            "justify_content": null,
            "justify_items": null,
            "left": null,
            "margin": null,
            "max_height": null,
            "max_width": null,
            "min_height": null,
            "min_width": null,
            "object_fit": null,
            "object_position": null,
            "order": null,
            "overflow": null,
            "overflow_x": null,
            "overflow_y": null,
            "padding": null,
            "right": null,
            "top": null,
            "visibility": null,
            "width": null
          }
        },
        "e2a314ad71e6402fb9f6f36dc31274a3": {
          "model_module": "@jupyter-widgets/base",
          "model_name": "LayoutModel",
          "state": {
            "_model_module": "@jupyter-widgets/base",
            "_model_module_version": "1.2.0",
            "_model_name": "LayoutModel",
            "_view_count": null,
            "_view_module": "@jupyter-widgets/base",
            "_view_module_version": "1.2.0",
            "_view_name": "LayoutView",
            "align_content": null,
            "align_items": null,
            "align_self": null,
            "border": null,
            "bottom": null,
            "display": null,
            "flex": null,
            "flex_flow": null,
            "grid_area": null,
            "grid_auto_columns": null,
            "grid_auto_flow": null,
            "grid_auto_rows": null,
            "grid_column": null,
            "grid_gap": null,
            "grid_row": null,
            "grid_template_areas": null,
            "grid_template_columns": null,
            "grid_template_rows": null,
            "height": null,
            "justify_content": null,
            "justify_items": null,
            "left": null,
            "margin": null,
            "max_height": null,
            "max_width": null,
            "min_height": null,
            "min_width": null,
            "object_fit": null,
            "object_position": null,
            "order": null,
            "overflow": null,
            "overflow_x": null,
            "overflow_y": null,
            "padding": null,
            "right": null,
            "top": null,
            "visibility": null,
            "width": null
          }
        },
        "693ba06c0c464968b6db643f8d63d7e6": {
          "model_module": "@jupyter-widgets/controls",
          "model_name": "ProgressStyleModel",
          "state": {
            "_model_module": "@jupyter-widgets/controls",
            "_model_module_version": "1.5.0",
            "_model_name": "ProgressStyleModel",
            "_view_count": null,
            "_view_module": "@jupyter-widgets/base",
            "_view_module_version": "1.2.0",
            "_view_name": "StyleView",
            "bar_color": null,
            "description_width": "initial"
          }
        },
        "5fe116ba27e34b84807d98f005bc7d47": {
          "model_module": "@jupyter-widgets/base",
          "model_name": "LayoutModel",
          "state": {
            "_model_module": "@jupyter-widgets/base",
            "_model_module_version": "1.2.0",
            "_model_name": "LayoutModel",
            "_view_count": null,
            "_view_module": "@jupyter-widgets/base",
            "_view_module_version": "1.2.0",
            "_view_name": "LayoutView",
            "align_content": null,
            "align_items": null,
            "align_self": null,
            "border": null,
            "bottom": null,
            "display": null,
            "flex": null,
            "flex_flow": null,
            "grid_area": null,
            "grid_auto_columns": null,
            "grid_auto_flow": null,
            "grid_auto_rows": null,
            "grid_column": null,
            "grid_gap": null,
            "grid_row": null,
            "grid_template_areas": null,
            "grid_template_columns": null,
            "grid_template_rows": null,
            "height": null,
            "justify_content": null,
            "justify_items": null,
            "left": null,
            "margin": null,
            "max_height": null,
            "max_width": null,
            "min_height": null,
            "min_width": null,
            "object_fit": null,
            "object_position": null,
            "order": null,
            "overflow": null,
            "overflow_x": null,
            "overflow_y": null,
            "padding": null,
            "right": null,
            "top": null,
            "visibility": null,
            "width": null
          }
        },
        "47712f52bdb64c13983c4c67bc6f4eab": {
          "model_module": "@jupyter-widgets/controls",
          "model_name": "DescriptionStyleModel",
          "state": {
            "_model_module": "@jupyter-widgets/controls",
            "_model_module_version": "1.5.0",
            "_model_name": "DescriptionStyleModel",
            "_view_count": null,
            "_view_module": "@jupyter-widgets/base",
            "_view_module_version": "1.2.0",
            "_view_name": "StyleView",
            "description_width": ""
          }
        }
      }
    }
  },
  "cells": [
    {
      "cell_type": "code",
      "metadata": {
        "id": "FX2UrJWFIupB"
      },
      "source": [
        "import os\n",
        "import numpy as np\n",
        "import pandas as pd\n",
        "import tensorflow as tf\n",
        "import matplotlib.pyplot as plt\n",
        "from tensorflow import keras\n",
        "from tensorflow.keras import layers\n",
        "import bert\n",
        "import tensorflow_hub as hub\n",
        "from transformers import BertTokenizer\n",
        "from transformers import *\n",
        "import pandas as pd"
      ],
      "execution_count": null,
      "outputs": []
    },
    {
      "cell_type": "code",
      "metadata": {
        "colab": {
          "base_uri": "https://localhost:8080/",
          "height": 794
        },
        "id": "ChU0LfiQJioQ",
        "outputId": "84265790-bc29-46bb-a436-7dcf6b5bc77c"
      },
      "source": [
        "def read_from_csv(mode='娛樂'):\n",
        "    return pd.read_csv('/content/drive/MyDrive/Colab Notebooks/%s.csv'%(mode), names=['title', 'titleLink', 'content', 'label'], header=0)\n",
        "#讀取資料集，並合併\n",
        "raw_news = pd.concat([read_from_csv('娛樂'),read_from_csv('全球'),read_from_csv('要聞'),read_from_csv('運動'),read_from_csv('房產'),read_from_csv('健康'),read_from_csv('財經')\n",
        ",read_from_csv('新奇'),read_from_csv('地方')],axis=0,ignore_index=True)\n",
        " \n",
        "#打散資料集\n",
        "raw_news=raw_news.sample(frac=1)\n",
        "#排除空值\n",
        "empty_title = ((raw_news['content'].isnull()) \\\n",
        "               | (raw_news['title'].isnull()) \\\n",
        "               | (raw_news['content'] == '') \\\n",
        "               | (raw_news['title'] == ''))\n",
        " \n",
        " \n",
        "raw_news = raw_news[~empty_title]\n",
        "raw_news['title_and_content'] = raw_news['title']+' '+raw_news['content']\n",
        "raw_news = raw_news[['title_and_content','label']]\n",
        "raw_news.label = raw_news.label.map({'娛樂':0,'全球':1,'要聞':2,'運動':3,'房產':4,'健康':5,'財經':6,'新奇':7,'地方':8})\n",
        "raw_news"
      ],
      "execution_count": null,
      "outputs": [
        {
          "output_type": "execute_result",
          "data": {
            "text/html": [
              "<div>\n",
              "<style scoped>\n",
              "    .dataframe tbody tr th:only-of-type {\n",
              "        vertical-align: middle;\n",
              "    }\n",
              "\n",
              "    .dataframe tbody tr th {\n",
              "        vertical-align: top;\n",
              "    }\n",
              "\n",
              "    .dataframe thead th {\n",
              "        text-align: right;\n",
              "    }\n",
              "</style>\n",
              "<table border=\"1\" class=\"dataframe\">\n",
              "  <thead>\n",
              "    <tr style=\"text-align: right;\">\n",
              "      <th></th>\n",
              "      <th>title_and_content</th>\n",
              "      <th>label</th>\n",
              "    </tr>\n",
              "  </thead>\n",
              "  <tbody>\n",
              "    <tr>\n",
              "      <th>34718</th>\n",
              "      <td>房市 逾2千萬接手少 高雄美術館豪宅降價賣 房價高漲 小宅轉夯 連高雄近期也有許多低總價的小...</td>\n",
              "      <td>4</td>\n",
              "    </tr>\n",
              "    <tr>\n",
              "      <th>69470</th>\n",
              "      <td>永和塌陷案提前一天搶通 6戶居民昨晚返家 上週新北永和發生的建築工地損鄰案 在施工團隊的搶救...</td>\n",
              "      <td>8</td>\n",
              "    </tr>\n",
              "    <tr>\n",
              "      <th>46277</th>\n",
              "      <td>頂新攜任中傑拜會中華職棒 味全龍復出進度加速 味全龍重出江湖的進度又往前邁進了 頂新集團發言...</td>\n",
              "      <td>6</td>\n",
              "    </tr>\n",
              "    <tr>\n",
              "      <th>6498</th>\n",
              "      <td>小鬼黃鴻升留給地球最後一首歌 扛得住 MV首播 小鬼 黃鴻升 生前與好友柯有倫 竇智孔合唱的...</td>\n",
              "      <td>0</td>\n",
              "    </tr>\n",
              "    <tr>\n",
              "      <th>30913</th>\n",
              "      <td>ABL 我希望有天我可以回來 阿提諾難忘台灣球迷 寶島夢想家前中鋒 目前效力馬來西亞吉隆坡猛...</td>\n",
              "      <td>3</td>\n",
              "    </tr>\n",
              "    <tr>\n",
              "      <th>...</th>\n",
              "      <td>...</td>\n",
              "      <td>...</td>\n",
              "    </tr>\n",
              "    <tr>\n",
              "      <th>47590</th>\n",
              "      <td>台幣周升逾2角 美元高檔震盪 日圓回落 後勢表現看這 美中貿易爭端露曙光 非美國貨幣大幅反彈...</td>\n",
              "      <td>6</td>\n",
              "    </tr>\n",
              "    <tr>\n",
              "      <th>73257</th>\n",
              "      <td>中捷小綠綠募資出包 議員批 把購買民眾當 盤子 迎接台中市捷運通車 台中捷運公司在群眾募資網...</td>\n",
              "      <td>8</td>\n",
              "    </tr>\n",
              "    <tr>\n",
              "      <th>14277</th>\n",
              "      <td>日本瘋傳 冷氣省電奇招 製造商一看急籲 恐得不償失 今年夏天台灣格外炎熱 連鄰近的日本也曾多...</td>\n",
              "      <td>1</td>\n",
              "    </tr>\n",
              "    <tr>\n",
              "      <th>10402</th>\n",
              "      <td>NBA 全明星賽照辦 威少心情差 反正我不會入選 聯盟人氣球星湖人一哥 詹皇 LeBron ...</td>\n",
              "      <td>1</td>\n",
              "    </tr>\n",
              "    <tr>\n",
              "      <th>53638</th>\n",
              "      <td>蒜頭一斤450女吃驚 攤販 1句 回嗆 全場無言 誇張了 國內蒜頭價格近期飆漲 婆媽上市場買...</td>\n",
              "      <td>7</td>\n",
              "    </tr>\n",
              "  </tbody>\n",
              "</table>\n",
              "<p>76514 rows × 2 columns</p>\n",
              "</div>"
            ],
            "text/plain": [
              "                                       title_and_content  label\n",
              "34718  房市 逾2千萬接手少 高雄美術館豪宅降價賣 房價高漲 小宅轉夯 連高雄近期也有許多低總價的小...      4\n",
              "69470  永和塌陷案提前一天搶通 6戶居民昨晚返家 上週新北永和發生的建築工地損鄰案 在施工團隊的搶救...      8\n",
              "46277  頂新攜任中傑拜會中華職棒 味全龍復出進度加速 味全龍重出江湖的進度又往前邁進了 頂新集團發言...      6\n",
              "6498   小鬼黃鴻升留給地球最後一首歌 扛得住 MV首播 小鬼 黃鴻升 生前與好友柯有倫 竇智孔合唱的...      0\n",
              "30913  ABL 我希望有天我可以回來 阿提諾難忘台灣球迷 寶島夢想家前中鋒 目前效力馬來西亞吉隆坡猛...      3\n",
              "...                                                  ...    ...\n",
              "47590  台幣周升逾2角 美元高檔震盪 日圓回落 後勢表現看這 美中貿易爭端露曙光 非美國貨幣大幅反彈...      6\n",
              "73257  中捷小綠綠募資出包 議員批 把購買民眾當 盤子 迎接台中市捷運通車 台中捷運公司在群眾募資網...      8\n",
              "14277  日本瘋傳 冷氣省電奇招 製造商一看急籲 恐得不償失 今年夏天台灣格外炎熱 連鄰近的日本也曾多...      1\n",
              "10402  NBA 全明星賽照辦 威少心情差 反正我不會入選 聯盟人氣球星湖人一哥 詹皇 LeBron ...      1\n",
              "53638  蒜頭一斤450女吃驚 攤販 1句 回嗆 全場無言 誇張了 國內蒜頭價格近期飆漲 婆媽上市場買...      7\n",
              "\n",
              "[76514 rows x 2 columns]"
            ]
          },
          "metadata": {
            "tags": []
          },
          "execution_count": 4
        }
      ]
    },
    {
      "cell_type": "code",
      "metadata": {
        "colab": {
          "base_uri": "https://localhost:8080/"
        },
        "id": "w8OrvhO8LNdl",
        "outputId": "012badeb-e11b-49e9-e355-912d929f4daf"
      },
      "source": [
        "# 80% trains , 10% val , 00% test\n",
        " \n",
        "df_train = raw_news[0:int(len(raw_news)*0.6)]\n",
        "df_val = raw_news[int(len(raw_news)*0.6):int(len(raw_news)*0.7)]\n",
        "df_test = raw_news[int(len(raw_news)*0.7):]\n",
        " \n",
        "print('平均長度:', raw_news.title_and_content.str.len().mean())\n",
        "print(df_train.shape)\n",
        "print(df_val.shape)\n",
        "print(df_test.shape)"
      ],
      "execution_count": null,
      "outputs": [
        {
          "output_type": "stream",
          "text": [
            "平均長度: 689.4542959458399\n",
            "(45908, 2)\n",
            "(7651, 2)\n",
            "(22955, 2)\n"
          ],
          "name": "stdout"
        }
      ]
    },
    {
      "cell_type": "code",
      "metadata": {
        "colab": {
          "base_uri": "https://localhost:8080/",
          "height": 227
        },
        "id": "lKrTQqFFP3jK",
        "outputId": "dfedafd3-47b2-4608-8832-4282d94dfcef"
      },
      "source": [
        "import matplotlib.pyplot as plt\n",
        "import matplotlib\n",
        "from matplotlib.font_manager import FontProperties\n",
        " \n",
        "plt.figure(figsize=(11,6))\n",
        "plt.xticks(fontsize=16)\n",
        "plt.yticks(fontsize=16)\n",
        " \n",
        "df = df_train.label.value_counts().reset_index()\n",
        "df.columns = ['label', 'count']\n",
        "plt.plot(df['label'].astype(str),df['count'], 'go-')\n",
        " \n",
        "df = df_val.label.value_counts().reset_index()\n",
        "df.columns = ['label', 'count']\n",
        "plt.plot(df['label'].astype(str),df['count'], 'bo-')\n",
        " \n",
        "df = df_test.label.value_counts().reset_index()\n",
        "df.columns = ['label', 'count']\n",
        "plt.plot(df['label'].astype(str),df['count'],'yo-')"
      ],
      "execution_count": null,
      "outputs": [
        {
          "output_type": "execute_result",
          "data": {
            "text/plain": [
              "[<matplotlib.lines.Line2D at 0x7f2a0cd80690>]"
            ]
          },
          "metadata": {
            "tags": []
          },
          "execution_count": 6
        },
        {
          "output_type": "display_data",
          "data": {
            "image/png": "[encoded data removed]",
            "text/plain": [
              "<Figure size 792x432 with 1 Axes>"
            ]
          },
          "metadata": {
            "tags": []
          }
        }
      ]
    },
    {
      "cell_type": "code",
      "metadata": {
        "colab": {
          "base_uri": "https://localhost:8080/",
          "height": 121,
          "referenced_widgets": [
            "16418c68596941e0b2cfc1734769672b",
            "1b0fc7a37190490a891eb724d3f74c29",
            "717db7b4f8064aed8a3318a1c65cb445",
            "11100838eab447109d8e5c34d10d5ea2",
            "e2a314ad71e6402fb9f6f36dc31274a3",
            "693ba06c0c464968b6db643f8d63d7e6",
            "5fe116ba27e34b84807d98f005bc7d47",
            "47712f52bdb64c13983c4c67bc6f4eab"
          ]
        },
        "id": "fura7S6iSp7t",
        "outputId": "f954bdb6-9185-4302-e03f-40d9d39abbbc"
      },
      "source": [
        "tokenizer = BertTokenizer.from_pretrained('bert-base-chinese')\n",
        "batch_size= 6 #http://fancyerii.github.io/2019/03/09/bert-codes/#%E5%AE%89%E8%A3%85\n",
        "max_length=280\n",
        "def convert_example_to_feature(review):\n",
        "    return tokenizer.encode_plus(review,\n",
        "                    add_special_tokens = True, # add [CLS], [SEP]\n",
        "                    max_length = max_length, # max length of the text that can go to BERT\n",
        "                    pad_to_max_length = True, # add [PAD] tokens\n",
        "                    return_attention_mask = True, # add attention mask to not focus on pad tokens\n",
        "                    )\n",
        " \n",
        "# map to the expected input to TFBertForSequenceClassification, see here \n",
        "def map_example_to_dict(input_ids, attention_masks, token_type_ids, label):\n",
        "    return {\n",
        "      \"input_ids\": input_ids,\n",
        "      \"token_type_ids\": token_type_ids,\n",
        "      \"attention_mask\": attention_masks,\n",
        "  }, label\n",
        " \n",
        "def encode_examples(ds, limit=-1):\n",
        "    # prepare list, so that we can build up final TensorFlow dataset from slices.\n",
        "    input_ids_list = []\n",
        "    input_ids_list2 = []\n",
        "    token_type_ids_list = []\n",
        "    attention_mask_list = []\n",
        "    label_list = []\n",
        "    if (limit > 0):\n",
        "        ds = ds.take(limit)\n",
        " \n",
        "    for index, row in ds.iterrows():\n",
        "        review = row[\"title_and_content\"]\n",
        "        label = row[\"label\"]\n",
        "        \n",
        "        bert_input = convert_example_to_feature(review)\n",
        " \n",
        "        input_ids_list.append(bert_input['input_ids'])\n",
        "        token_type_ids_list.append(bert_input['token_type_ids'])\n",
        "        attention_mask_list.append(bert_input['attention_mask'])\n",
        "        label_list.append([label])\n",
        "        \n",
        "    return tf.data.Dataset.from_tensor_slices((input_ids_list, attention_mask_list, token_type_ids_list, label_list)).map(map_example_to_dict)"
      ],
      "execution_count": null,
      "outputs": [
        {
          "output_type": "display_data",
          "data": {
            "application/vnd.jupyter.widget-view+json": {
              "model_id": "16418c68596941e0b2cfc1734769672b",
              "version_major": 2,
              "version_minor": 0
            },
            "text/plain": [
              "HBox(children=(FloatProgress(value=0.0, description='Downloading', max=109540.0, style=ProgressStyle(descripti…"
            ]
          },
          "metadata": {
            "tags": []
          }
        },
        {
          "output_type": "stream",
          "text": [
            "\n"
          ],
          "name": "stdout"
        }
      ]
    },
    {
      "cell_type": "code",
      "metadata": {
        "colab": {
          "background_save": true,
          "base_uri": "https://localhost:8080/"
        },
        "id": "10VZXQ-RnwmC",
        "outputId": "509275d4-6910-4ef5-d0a2-3efc86fe8244"
      },
      "source": [
        "ds_train_encoded = encode_examples(df_train).batch(batch_size)\n",
        "ds_val_encoded = encode_examples(df_val).batch(batch_size)\n",
        "ds_test_encoded = encode_examples(df_test).batch(batch_size)"
      ],
      "execution_count": null,
      "outputs": [
        {
          "output_type": "stream",
          "text": [
            "/usr/local/lib/python3.7/dist-packages/transformers/tokenization_utils_base.py:2155: FutureWarning: The `pad_to_max_length` argument is deprecated and will be removed in a future version, use `padding=True` or `padding='longest'` to pad to the longest sequence in the batch, or use `padding='max_length'` to pad to a max length. In this case, you can give a specific length with `max_length` (e.g. `max_length=45`) or leave max_length to None to pad to the maximal input size of the model (e.g. 512 for Bert).\n",
            "  FutureWarning,\n"
          ],
          "name": "stderr"
        }
      ]
    },
    {
      "cell_type": "code",
      "metadata": {
        "id": "9ORepd9On5A9",
        "colab": {
          "base_uri": "https://localhost:8080/",
          "height": 765,
          "referenced_widgets": [
            "37470dd0c3674d3da424072847b05e0b",
            "75eb345752924c179c83f6d37ff29caa"
          ]
        },
        "outputId": "d66803d6-f589-494f-d5c1-91f92d10ed65"
      },
      "source": [
        "from transformers import TFBertForSequenceClassification\n",
        "                    \n",
        "import tensorflow as tf\n",
        " \n",
        "# recommended learning rate for Adam 5e-5, 3e-5, 2e-5\n",
        "learning_rate = 1e-5\n",
        "# we will do just 1 epoch for illustration, though multiple epochs might be better as long as we will not overfit the model\n",
        "number_of_epochs = 6\n",
        " \n",
        "# model initialization\n",
        "model = TFBertForSequenceClassification.from_pretrained('bert-base-chinese', num_labels=9)\n",
        " \n",
        "# optimizer Adam recommended\n",
        "optimizer = tf.keras.optimizers.Adam(learning_rate=learning_rate,epsilon=1e-08, clipnorm=1)\n",
        " \n",
        "# we do not have one-hot vectors, we can use sparce categorical cross entropy and accuracy\n",
        "loss = tf.keras.losses.SparseCategoricalCrossentropy(from_logits=True)\n",
        "metric = tf.keras.metrics.SparseCategoricalAccuracy('accuracy')\n",
        "model.compile(optimizer=optimizer, loss=loss, metrics=[metric])\n",
        "# fit model\n",
        "bert_history = model.fit(ds_train_encoded, epochs=number_of_epochs, validation_data=ds_val_encoded)"
      ],
      "execution_count": null,
      "outputs": [
        {
          "output_type": "display_data",
          "data": {
            "application/vnd.jupyter.widget-view+json": {
              "model_id": "37470dd0c3674d3da424072847b05e0b",
              "version_major": 2,
              "version_minor": 0
            },
            "text/plain": [
              "HBox(children=(FloatProgress(value=0.0, description='Downloading', max=624.0, style=ProgressStyle(description_…"
            ]
          },
          "metadata": {
            "tags": []
          }
        },
        {
          "output_type": "stream",
          "text": [
            "\n"
          ],
          "name": "stdout"
        },
        {
          "output_type": "display_data",
          "data": {
            "application/vnd.jupyter.widget-view+json": {
              "model_id": "75eb345752924c179c83f6d37ff29caa",
              "version_major": 2,
              "version_minor": 0
            },
            "text/plain": [
              "HBox(children=(FloatProgress(value=0.0, description='Downloading', max=478309336.0, style=ProgressStyle(descri…"
            ]
          },
          "metadata": {
            "tags": []
          }
        },
        {
          "output_type": "stream",
          "text": [
            "\n"
          ],
          "name": "stdout"
        },
        {
          "output_type": "stream",
          "text": [
            "All model checkpoint layers were used when initializing TFBertForSequenceClassification.\n",
            "\n",
            "Some layers of TFBertForSequenceClassification were not initialized from the model checkpoint at bert-base-chinese and are newly initialized: ['classifier']\n",
            "You should probably TRAIN this model on a down-stream task to be able to use it for predictions and inference.\n"
          ],
          "name": "stderr"
        },
        {
          "output_type": "stream",
          "text": [
            "Epoch 1/6\n",
            "WARNING:tensorflow:The parameters `output_attentions`, `output_hidden_states` and `use_cache` cannot be updated when calling a model.They have to be set to True/False in the config object (i.e.: `config=XConfig.from_pretrained('name', output_attentions=True)`).\n",
            "WARNING:tensorflow:AutoGraph could not transform <bound method Socket.send of <zmq.sugar.socket.Socket object at 0x7f2a9e28ce50>> and will run it as-is.\n",
            "Please report this to the TensorFlow team. When filing the bug, set the verbosity to 10 (on Linux, `export AUTOGRAPH_VERBOSITY=10`) and attach the full output.\n",
            "Cause: module, class, method, function, traceback, frame, or code object was expected, got cython_function_or_method\n",
            "To silence this warning, decorate the function with @tf.autograph.experimental.do_not_convert\n",
            "WARNING: AutoGraph could not transform <bound method Socket.send of <zmq.sugar.socket.Socket object at 0x7f2a9e28ce50>> and will run it as-is.\n",
            "Please report this to the TensorFlow team. When filing the bug, set the verbosity to 10 (on Linux, `export AUTOGRAPH_VERBOSITY=10`) and attach the full output.\n",
            "Cause: module, class, method, function, traceback, frame, or code object was expected, got cython_function_or_method\n",
            "To silence this warning, decorate the function with @tf.autograph.experimental.do_not_convert\n",
            "WARNING:tensorflow:AutoGraph could not transform <function wrap at 0x7f2ab96b5c20> and will run it as-is.\n",
            "Cause: while/else statement not yet supported\n",
            "To silence this warning, decorate the function with @tf.autograph.experimental.do_not_convert\n",
            "WARNING: AutoGraph could not transform <function wrap at 0x7f2ab96b5c20> and will run it as-is.\n",
            "Cause: while/else statement not yet supported\n",
            "To silence this warning, decorate the function with @tf.autograph.experimental.do_not_convert\n",
            "WARNING:tensorflow:The parameter `return_dict` cannot be set in graph mode and will always be set to `True`.\n",
            "WARNING:tensorflow:The parameters `output_attentions`, `output_hidden_states` and `use_cache` cannot be updated when calling a model.They have to be set to True/False in the config object (i.e.: `config=XConfig.from_pretrained('name', output_attentions=True)`).\n",
            "WARNING:tensorflow:The parameter `return_dict` cannot be set in graph mode and will always be set to `True`.\n",
            "7652/7652 [==============================] - ETA: 0s - loss: 0.4818 - accuracy: 0.8604WARNING:tensorflow:The parameters `output_attentions`, `output_hidden_states` and `use_cache` cannot be updated when calling a model.They have to be set to True/False in the config object (i.e.: `config=XConfig.from_pretrained('name', output_attentions=True)`).\n",
            "WARNING:tensorflow:The parameter `return_dict` cannot be set in graph mode and will always be set to `True`.\n",
            "7652/7652 [==============================] - 3374s 435ms/step - loss: 0.4818 - accuracy: 0.8604 - val_loss: 0.2982 - val_accuracy: 0.9143\n",
            "Epoch 2/6\n",
            "7652/7652 [==============================] - 3325s 435ms/step - loss: 0.2298 - accuracy: 0.9301 - val_loss: 0.2856 - val_accuracy: 0.9207\n",
            "Epoch 3/6\n",
            "7652/7652 [==============================] - 3335s 436ms/step - loss: 0.1740 - accuracy: 0.9456 - val_loss: 0.3200 - val_accuracy: 0.9171\n",
            "Epoch 4/6\n",
            "7652/7652 [==============================] - 3330s 435ms/step - loss: 0.1429 - accuracy: 0.9555 - val_loss: 0.3905 - val_accuracy: 0.9073\n",
            "Epoch 5/6\n",
            "7652/7652 [==============================] - 3341s 437ms/step - loss: 0.1285 - accuracy: 0.9614 - val_loss: 0.3893 - val_accuracy: 0.9092\n",
            "Epoch 6/6\n",
            "7652/7652 [==============================] - 3330s 435ms/step - loss: 0.1210 - accuracy: 0.9645 - val_loss: 0.4716 - val_accuracy: 0.9076\n"
          ],
          "name": "stdout"
        }
      ]
    },
    {
      "cell_type": "code",
      "metadata": {
        "id": "JHsVyEuEoHRk",
        "colab": {
          "base_uri": "https://localhost:8080/"
        },
        "outputId": "4bc80707-d72f-4945-c257-f14b621fa54a"
      },
      "source": [
        "# evaluate test set\n",
        "from sklearn.metrics import recall_score,precision_score\n",
        " \n",
        "evaluate={'name':['Accuracy','recall','precision'],'score':[model.evaluate(ds_test_encoded)[1],\n",
        "                               recall_score(df_test.label,np.argmax(model.predict(ds_test_encoded)[0],axis=1), average=None)[1],\n",
        "                               precision_score(df_test.label,np.argmax(model.predict(ds_test_encoded)[0],axis=1), average=None)[1]]}\n",
        "evaluate"
      ],
      "execution_count": null,
      "outputs": [
        {
          "output_type": "stream",
          "text": [
            "3826/3826 [==============================] - 489s 128ms/step - loss: 0.4865 - accuracy: 0.9041\n",
            "WARNING:tensorflow:The parameters `output_attentions`, `output_hidden_states` and `use_cache` cannot be updated when calling a model.They have to be set to True/False in the config object (i.e.: `config=XConfig.from_pretrained('name', output_attentions=True)`).\n",
            "WARNING:tensorflow:The parameter `return_dict` cannot be set in graph mode and will always be set to `True`.\n"
          ],
          "name": "stdout"
        },
        {
          "output_type": "execute_result",
          "data": {
            "text/plain": [
              "{'name': ['Accuracy', 'recall', 'precision'],\n",
              " 'score': [0.9041167497634888, 0.8261933904528764, 0.8323057953144266]}"
            ]
          },
          "metadata": {
            "tags": []
          },
          "execution_count": 11
        }
      ]
    },
    {
      "cell_type": "code",
      "metadata": {
        "id": "Wdsvg2JUcLY5",
        "colab": {
          "base_uri": "https://localhost:8080/",
          "height": 326
        },
        "outputId": "8910cbbc-a954-4938-d7ce-4dd63d8d3ea8"
      },
      "source": [
        "plt.figure(figsize=(10,8))\n",
        " \n",
        "ax=sns.barplot('name','score',data=pd.DataFrame(evaluate),linewidth=3)\n",
        "plt.xticks(fontsize=14)\n",
        "plt.yticks(fontsize=14)\n",
        "plt.xlabel('BERT',fontsize=15)\n",
        "plt.ylabel('score',fontsize=15)\n",
        "for p in ax.patches:\n",
        " height = p.get_height()\n",
        " ax.text(p.get_x()+p.get_width()/2.,#位置\n",
        " height+0.01,\n",
        " '{:1.2f}%'.format(height*100),\n",
        " ha=\"center\", size=14)\n",
        "plt.show()"
      ],
      "execution_count": null,
      "outputs": [
        {
          "output_type": "stream",
          "text": [
            "/usr/local/lib/python3.7/dist-packages/seaborn/_decorators.py:43: FutureWarning: Pass the following variables as keyword args: x, y. From version 0.12, the only valid positional argument will be `data`, and passing other arguments without an explicit keyword will result in an error or misinterpretation.\n",
            "  FutureWarning\n"
          ],
          "name": "stderr"
        },
        {
          "output_type": "display_data",
          "data": {
            "image/png": "[encoded data removed]",
            "text/plain": [
              "<Figure size 720x576 with 1 Axes>"
            ]
          },
          "metadata": {
            "tags": [],
            "needs_background": "light"
          }
        }
      ]
    },
    {
      "cell_type": "code",
      "metadata": {
        "id": "ZcnA0FHvS-fQ",
        "colab": {
          "base_uri": "https://localhost:8080/",
          "height": 374
        },
        "outputId": "4215decc-507c-4fd8-9827-3d01b711bc32"
      },
      "source": [
        "from sklearn.metrics import confusion_matrix\n",
        "import seaborn as sns\n",
        " \n",
        "plt.figure(figsize=(12,12))\n",
        "plt.xticks(fontsize=12)\n",
        "plt.yticks(fontsize=12)\n",
        "pred=model.predict(ds_test_encoded)\n",
        "C2= confusion_matrix(df_test.label.to_numpy(), np.argmax(pred[0], axis=1), labels=[i for i in range(9)])\n",
        "C2 = C2.astype('float') / C2.sum(axis=1)[:, np.newaxis]\n",
        "sns.heatmap(C2,annot=True,fmt=\".2f\", square=True, cmap='YlGnBu')\n",
        "plt.ylabel('True label', fontsize=15)\n",
        "plt.xlabel('Predicted label', fontsize=15)"
      ],
      "execution_count": null,
      "outputs": [
        {
          "output_type": "execute_result",
          "data": {
            "text/plain": [
              "Text(0.5, 142.31999999999996, 'Predicted label')"
            ]
          },
          "metadata": {
            "tags": []
          },
          "execution_count": 26
        },
        {
          "output_type": "display_data",
          "data": {
            "image/png": "[encoded data removed]",
            "text/plain": [
              "<Figure size 864x864 with 2 Axes>"
            ]
          },
          "metadata": {
            "tags": [],
            "needs_background": "light"
          }
        }
      ]
    },
    {
      "cell_type": "code",
      "metadata": {
        "colab": {
          "base_uri": "https://localhost:8080/",
          "height": 300
        },
        "id": "gOlG8jDG6snR",
        "outputId": "b387f1c3-7e6a-470e-f7dd-69ecb43328a1"
      },
      "source": [
        "import os\n",
        "plt.plot(bert_history.history['accuracy'],label='train-accuracy')\n",
        "plt.plot(bert_history.history['loss'],label='train-loss')\n",
        "plt.plot(bert_history.history['val_accuracy'],label='val-accuracy')\n",
        "plt.plot(bert_history.history['val_loss'],label='val-loss')\n",
        " \n",
        "plt.ylabel('accuracy/loss')\n",
        "plt.xlabel('epochs')\n",
        "plt.legend(loc='lower right')"
      ],
      "execution_count": null,
      "outputs": [
        {
          "output_type": "execute_result",
          "data": {
            "text/plain": [
              "<matplotlib.legend.Legend at 0x7f2a002abd50>"
            ]
          },
          "metadata": {
            "tags": []
          },
          "execution_count": 13
        },
        {
          "output_type": "display_data",
          "data": {
            "image/png": "[encoded data removed]",
            "text/plain": [
              "<Figure size 432x288 with 1 Axes>"
            ]
          },
          "metadata": {
            "tags": [],
            "needs_background": "light"
          }
        }
      ]
    },
    {
      "cell_type": "code",
      "metadata": {
        "id": "bj4hk9BI6xuc"
      },
      "source": [
        "model.save_weights('/content/drive/MyDrive/Colab Notebooks/bert_new.h5')"
      ],
      "execution_count": null,
      "outputs": []
    },
    {
      "cell_type": "code",
      "metadata": {
        "colab": {
          "base_uri": "https://localhost:8080/"
        },
        "id": "Ir5__vzEp8Pr",
        "outputId": "10bf1068-ff7a-4477-d3a1-0dc41fb6a013"
      },
      "source": [
        "!pip install bert-for-tf2\n",
        "!pip install transformers"
      ],
      "execution_count": null,
      "outputs": [
        {
          "output_type": "stream",
          "text": [
            "Collecting bert-for-tf2\n",
            "\u001b[?25l  Downloading https://files.pythonhosted.org/packages/a5/a1/acb891630749c56901e770a34d6bac8a509a367dd74a05daf7306952e910/bert-for-tf2-0.14.9.tar.gz (41kB)\n",
            "\r\u001b[K     |████████                        | 10kB 26.0MB/s eta 0:00:01\r\u001b[K     |████████████████                | 20kB 33.8MB/s eta 0:00:01\r\u001b[K     |███████████████████████▉        | 30kB 38.9MB/s eta 0:00:01\r\u001b[K     |███████████████████████████████▉| 40kB 42.4MB/s eta 0:00:01\r\u001b[K     |████████████████████████████████| 51kB 6.8MB/s \n",
            "\u001b[?25hCollecting py-params>=0.9.6\n",
            "  Downloading https://files.pythonhosted.org/packages/aa/e0/4f663d8abf83c8084b75b995bd2ab3a9512ebc5b97206fde38cef906ab07/py-params-0.10.2.tar.gz\n",
            "Collecting params-flow>=0.8.0\n",
            "  Downloading https://files.pythonhosted.org/packages/a9/95/ff49f5ebd501f142a6f0aaf42bcfd1c192dc54909d1d9eb84ab031d46056/params-flow-0.8.2.tar.gz\n",
            "Requirement already satisfied: numpy in /usr/local/lib/python3.7/dist-packages (from params-flow>=0.8.0->bert-for-tf2) (1.19.5)\n",
            "Requirement already satisfied: tqdm in /usr/local/lib/python3.7/dist-packages (from params-flow>=0.8.0->bert-for-tf2) (4.41.1)\n",
            "Building wheels for collected packages: bert-for-tf2, py-params, params-flow\n",
            "  Building wheel for bert-for-tf2 (setup.py) ... \u001b[?25l\u001b[?25hdone\n",
            "  Created wheel for bert-for-tf2: filename=bert_for_tf2-0.14.9-cp37-none-any.whl size=30535 sha256=22dcb531de348674043b850680f93f5e7e118394ca2fdb38b23c0729eeeee647\n",
            "  Stored in directory: /root/.cache/pip/wheels/a1/04/ee/347bd9f5b821b637c76411d280271a857aece00358896a230f\n",
            "  Building wheel for py-params (setup.py) ... \u001b[?25l\u001b[?25hdone\n",
            "  Created wheel for py-params: filename=py_params-0.10.2-cp37-none-any.whl size=7912 sha256=456dc41191ba64f7d7cd9d37de66f6392e923f9b63a9ce7f82ff8490c8ccc856\n",
            "  Stored in directory: /root/.cache/pip/wheels/d0/4a/70/ff12450229ff1955abf01f365051d4faae1c20aef53ab4cf09\n",
            "  Building wheel for params-flow (setup.py) ... \u001b[?25l\u001b[?25hdone\n",
            "  Created wheel for params-flow: filename=params_flow-0.8.2-cp37-none-any.whl size=19472 sha256=de6d018e9dcffb6304df66d71b3f5c9364cfc5d3fd0ed203a7da4cca4b0c245f\n",
            "  Stored in directory: /root/.cache/pip/wheels/08/c8/7f/81c86b9ff2b86e2c477e3914175be03e679e596067dc630c06\n",
            "Successfully built bert-for-tf2 py-params params-flow\n",
            "Installing collected packages: py-params, params-flow, bert-for-tf2\n",
            "Successfully installed bert-for-tf2-0.14.9 params-flow-0.8.2 py-params-0.10.2\n",
            "Collecting transformers\n",
            "\u001b[?25l  Downloading https://files.pythonhosted.org/packages/f9/54/5ca07ec9569d2f232f3166de5457b63943882f7950ddfcc887732fc7fb23/transformers-4.3.3-py3-none-any.whl (1.9MB)\n",
            "\u001b[K     |████████████████████████████████| 1.9MB 19.2MB/s \n",
            "\u001b[?25hCollecting tokenizers<0.11,>=0.10.1\n",
            "\u001b[?25l  Downloading https://files.pythonhosted.org/packages/71/23/2ddc317b2121117bf34dd00f5b0de194158f2a44ee2bf5e47c7166878a97/tokenizers-0.10.1-cp37-cp37m-manylinux2010_x86_64.whl (3.2MB)\n",
            "\u001b[K     |████████████████████████████████| 3.2MB 51.4MB/s \n",
            "\u001b[?25hRequirement already satisfied: importlib-metadata; python_version < \"3.8\" in /usr/local/lib/python3.7/dist-packages (from transformers) (3.7.0)\n",
            "Collecting sacremoses\n",
            "\u001b[?25l  Downloading https://files.pythonhosted.org/packages/7d/34/09d19aff26edcc8eb2a01bed8e98f13a1537005d31e95233fd48216eed10/sacremoses-0.0.43.tar.gz (883kB)\n",
            "\u001b[K     |████████████████████████████████| 890kB 46.4MB/s \n",
            "\u001b[?25hRequirement already satisfied: regex!=2019.12.17 in /usr/local/lib/python3.7/dist-packages (from transformers) (2019.12.20)\n",
            "Requirement already satisfied: numpy>=1.17 in /usr/local/lib/python3.7/dist-packages (from transformers) (1.19.5)\n",
            "Requirement already satisfied: requests in /usr/local/lib/python3.7/dist-packages (from transformers) (2.23.0)\n",
            "Requirement already satisfied: filelock in /usr/local/lib/python3.7/dist-packages (from transformers) (3.0.12)\n",
            "Requirement already satisfied: packaging in /usr/local/lib/python3.7/dist-packages (from transformers) (20.9)\n",
            "Requirement already satisfied: tqdm>=4.27 in /usr/local/lib/python3.7/dist-packages (from transformers) (4.41.1)\n",
            "Requirement already satisfied: zipp>=0.5 in /usr/local/lib/python3.7/dist-packages (from importlib-metadata; python_version < \"3.8\"->transformers) (3.4.0)\n",
            "Requirement already satisfied: typing-extensions>=3.6.4; python_version < \"3.8\" in /usr/local/lib/python3.7/dist-packages (from importlib-metadata; python_version < \"3.8\"->transformers) (3.7.4.3)\n",
            "Requirement already satisfied: six in /usr/local/lib/python3.7/dist-packages (from sacremoses->transformers) (1.15.0)\n",
            "Requirement already satisfied: click in /usr/local/lib/python3.7/dist-packages (from sacremoses->transformers) (7.1.2)\n",
            "Requirement already satisfied: joblib in /usr/local/lib/python3.7/dist-packages (from sacremoses->transformers) (1.0.1)\n",
            "Requirement already satisfied: urllib3!=1.25.0,!=1.25.1,<1.26,>=1.21.1 in /usr/local/lib/python3.7/dist-packages (from requests->transformers) (1.24.3)\n",
            "Requirement already satisfied: idna<3,>=2.5 in /usr/local/lib/python3.7/dist-packages (from requests->transformers) (2.10)\n",
            "Requirement already satisfied: chardet<4,>=3.0.2 in /usr/local/lib/python3.7/dist-packages (from requests->transformers) (3.0.4)\n",
            "Requirement already satisfied: certifi>=2017.4.17 in /usr/local/lib/python3.7/dist-packages (from requests->transformers) (2020.12.5)\n",
            "Requirement already satisfied: pyparsing>=2.0.2 in /usr/local/lib/python3.7/dist-packages (from packaging->transformers) (2.4.7)\n",
            "Building wheels for collected packages: sacremoses\n",
            "  Building wheel for sacremoses (setup.py) ... \u001b[?25l\u001b[?25hdone\n",
            "  Created wheel for sacremoses: filename=sacremoses-0.0.43-cp37-none-any.whl size=893262 sha256=c009d56b36e32d4185bec9c6a257dff348a8996e6a58f2f9cb0a9cb853584cb0\n",
            "  Stored in directory: /root/.cache/pip/wheels/29/3c/fd/7ce5c3f0666dab31a50123635e6fb5e19ceb42ce38d4e58f45\n",
            "Successfully built sacremoses\n",
            "Installing collected packages: tokenizers, sacremoses, transformers\n",
            "Successfully installed sacremoses-0.0.43 tokenizers-0.10.1 transformers-4.3.3\n"
          ],
          "name": "stdout"
        }
      ]
    }
  ]
}